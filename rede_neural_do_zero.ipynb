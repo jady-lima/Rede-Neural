{
  "nbformat": 4,
  "nbformat_minor": 0,
  "metadata": {
    "colab": {
      "provenance": []
    },
    "kernelspec": {
      "name": "python3",
      "display_name": "Python 3"
    },
    "language_info": {
      "name": "python"
    }
  },
  "cells": [
    {
      "cell_type": "code",
      "execution_count": null,
      "metadata": {
        "id": "HoutoVFmLNt8"
      },
      "outputs": [],
      "source": [
        "import numpy as np\n",
        "import torch\n",
        "import torch.nn.functional as F\n",
        "import torchvision\n",
        "import matplotlib.pyplot as plt\n",
        "from time import time\n",
        "from torchvision import datasets, transforms\n",
        "from torch import nn, optim"
      ]
    },
    {
      "cell_type": "code",
      "source": [
        "transform = transforms.ToTensor()\n",
        "\n",
        "trainset = datasets.MNIST('./MNIST_data/', download = True, train = True, transform = transform)\n",
        "trainloader = torch.utils.data.DataLoader(trainset, batch_size = 64, shuffle = True)\n",
        "\n",
        "valset = datasets.MNIST('./MNIST_data/', download = True, train = False, transform = transform)\n",
        "valloader = torch.utils.data.DataLoader(valset, batch_size = 64, shuffle = True)\n"
      ],
      "metadata": {
        "id": "WpIKqfoZQJRl"
      },
      "execution_count": null,
      "outputs": []
    },
    {
      "cell_type": "code",
      "source": [
        "dataiter = iter(trainloader)\n",
        "imagens, etiquetas = next(dataiter)\n",
        "plt.imshow(imagens[0].numpy().squeeze(), cmap='gray_r');"
      ],
      "metadata": {
        "colab": {
          "base_uri": "https://localhost:8080/",
          "height": 430
        },
        "id": "zwA65wYLSAHn",
        "outputId": "de8e8ae7-1138-4147-96d1-bbc014c890c6"
      },
      "execution_count": null,
      "outputs": [
        {
          "output_type": "display_data",
          "data": {
            "text/plain": [
              "<Figure size 640x480 with 1 Axes>"
            ],
            "image/png": "[encoded data removed]"
          },
          "metadata": {}
        }
      ]
    },
    {
      "cell_type": "code",
      "source": [
        "print(imagens[0].shape) #verifica as dimensões do tensor da imagem\n",
        "print(etiquetas[0].shape)"
      ],
      "metadata": {
        "colab": {
          "base_uri": "https://localhost:8080/"
        },
        "id": "sdgjj7DXUXHx",
        "outputId": "338f58e8-2853-46a5-f750-411595442f03"
      },
      "execution_count": null,
      "outputs": [
        {
          "output_type": "stream",
          "name": "stdout",
          "text": [
            "torch.Size([1, 28, 28])\n",
            "torch.Size([])\n"
          ]
        }
      ]
    },
    {
      "cell_type": "code",
      "source": [
        "class Modelo(nn.Module):\n",
        "  def __init__(self):\n",
        "    super(Modelo, self).__init__()\n",
        "    self.linear1 = nn.Linear(28*28, 128) #Camada de entrada, 784 neurônios que se ligam a 128\n",
        "    self.linear2 = nn.Linear(128, 64) # camada interna 1, 128 neurônios se ligam a 64\n",
        "    self.linear3 = nn.Linear(64, 10) # camada interna 2, 64 neurônios se ligam a 10\n",
        "    # não é necessario usar uma camada para a saida, pois é só pegar a saida da camada interna 2\n",
        "\n",
        "  def forward(self, X):\n",
        "    X = F.relu(self.linear1(X)) # função de ativação da camada de entrada para a camada interna 1\n",
        "    X = F.relu(self.linear2(X)) # função de ativação da camada interna 1 para a camada interna 2\n",
        "    X = self.linear3(X) # função de ativção da camada interna 2 para a camada de saida, nesse caso f(x) = x\n",
        "    return F.log_softmax(X, dim=1) # dados utilizados para calcular a perda\n"
      ],
      "metadata": {
        "id": "8C58DVdPU1rs"
      },
      "execution_count": null,
      "outputs": []
    },
    {
      "cell_type": "code",
      "source": [
        "def treino(modelo, trainloader, device):\n",
        "  otimizador = optim.SGD(modelo.parameters(), lr=0.01, momentum=0.5) #atualização dos pesos e da bias\n",
        "  inicio = time() # time para saber o tempo de treinamento\n",
        "\n",
        "  criterio = nn.NLLLoss() # defininifo o criterio para calcular a perda\n",
        "  EPOCHS = 10 #numero de epochs que o algoritmo rodará\n",
        "  modelo.train() #ativa o modo de treinamento\n",
        "\n",
        "  for epoch in range(EPOCHS):\n",
        "    perda_acumulada = 0 #inicia a perda acumulada de cada epoch\n",
        "\n",
        "    for imagens, etiquetas in trainloader:\n",
        "\n",
        "      imagens = imagens.view(imagens.shape[0], -1) # converte a imagens para vetores 28*28 casas\n",
        "      otimizador.zero_grad() #gera o gradiente por conta do ciclo anterior\n",
        "\n",
        "      output = modelo(imagens.to(device)) # coloca os dados no modelo\n",
        "      perda_instantanea = criterio(output, etiquetas.to(device)) #calcula a perda da epoch em questão\n",
        "\n",
        "      perda_instantanea.backward() # back propagation a partir da perda\n",
        "\n",
        "      otimizador.step() #utiliza od pesos e as bias\n",
        "\n",
        "      perda_acumulada += perda_instantanea.item() #atualização da perda acumulada\n",
        "\n",
        "    else:\n",
        "      print(\"Epoch {} - perda resultante: {}\".format(epoch+1), perda_acumulada/len(trainloader))\n",
        "\n",
        "  print(\"\\Tempo de treino (em minutos): \", (time()-inicio)/60)\n"
      ],
      "metadata": {
        "id": "H8wEK3ECWmeG"
      },
      "execution_count": null,
      "outputs": []
    },
    {
      "cell_type": "code",
      "source": [
        "def validacao(modelo, valloader, device):\n",
        "  conta_corretas, conta_todas = 0, 0\n",
        "\n",
        "  for imagens, etiquetas in valloader:\n",
        "\n",
        "    for i in range(len(etiquetas)):\n",
        "      img = imagens[i].view(1, 784)\n",
        "\n",
        "      #desativa o upgrade e acelega a validação\n",
        "      with torch.no_grad():\n",
        "        logps = modelo(img.to(device)) #output do modelo em escala logaritmica\n",
        "\n",
        "\n",
        "      ps = torch.exp(logps) #converte o output para escala normal\n",
        "      probab = list(ps.cpu().numpy()[0])\n",
        "      etiqueta_pred = probab.index(max(probab))\n",
        "      etiqueta_certa = etiquetas.numpy()[i]\n",
        "\n",
        "      if (etiqueta_certa == etiqueta_pred):\n",
        "        conta_corretas += 1\n",
        "      conta_todas += 1\n",
        "\n",
        "  print(\"Total de imagens testadas: \", conta_todas)\n",
        "  print(\"Precisao do modelo: \", (conta_corretas*100/conta_todas))\n"
      ],
      "metadata": {
        "id": "2t7bD-iSZeYX"
      },
      "execution_count": null,
      "outputs": []
    },
    {
      "cell_type": "code",
      "source": [
        "modelo = Modelo()\n",
        "device = torch.device(\"cuda\" if torch.cuda.is_available() else \"cpu\")\n",
        "modelo.to(device)"
      ],
      "metadata": {
        "colab": {
          "base_uri": "https://localhost:8080/"
        },
        "id": "DqQshpjHbS4U",
        "outputId": "44f05780-1f07-450c-8740-4c97975d0018"
      },
      "execution_count": null,
      "outputs": [
        {
          "output_type": "execute_result",
          "data": {
            "text/plain": [
              "Modelo(\n",
              "  (linear1): Linear(in_features=784, out_features=128, bias=True)\n",
              "  (linear2): Linear(in_features=128, out_features=64, bias=True)\n",
              "  (linear3): Linear(in_features=64, out_features=10, bias=True)\n",
              ")"
            ]
          },
          "metadata": {},
          "execution_count": 26
        }
      ]
    },
    {
      "cell_type": "code",
      "source": [],
      "metadata": {
        "id": "-ckH4x9tbya-"
      },
      "execution_count": null,
      "outputs": []
    }
  ]
}